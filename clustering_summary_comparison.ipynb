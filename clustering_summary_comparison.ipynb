{
 "cells": [
  {
   "cell_type": "markdown",
   "id": "c79030f3",
   "metadata": {},
   "source": [
    "\n",
    "# Clustering Method Comparison Summary\n",
    "\n",
    "This section provides a **comparison between Hierarchical Clustering and K-Means Clustering** applied to the *Mall Customers* dataset.\n",
    "\n",
    "---\n",
    "\n",
    "## Dataset Overview\n",
    "- Dataset: `Mall_Customers.csv`\n",
    "- Features used: `Age`, `Annual Income (k$)`, `Spending Score (1-100)`\n",
    "- Preprocessing: Standardized using `StandardScaler`\n",
    "\n",
    "---\n",
    "\n",
    "## Method 1: Hierarchical Clustering\n",
    "- **Linkage Method Tested:** single, complete, average, ward\n",
    "- **Best Linkage Method:** Average (based on Silhouette Score)\n",
    "- **Silhouette Score:** 0.4096\n",
    "- **Number of Clusters:** 5 (chosen using dendrogram and evaluation)\n",
    "- **Visualization:** Dendrogram + PCA (3D)\n",
    "- **Advantages:**\n",
    "  - Doesn’t require predefined `k`\n",
    "  - Useful for small datasets and structure exploration\n",
    "- **Limitations:**\n",
    "  - More computationally expensive\n",
    "  - Less scalable to large datasets\n",
    "\n",
    "---\n",
    "\n",
    "## Method 2: K-Means Clustering\n",
    "- **Initialization:** k-means++ (avoids poor cluster initialization)\n",
    "- **Number of Clusters:** 5 (chosen using Elbow Method)\n",
    "- **Silhouette Score:** 0.42\n",
    "- **Visualization:** 2D & 3D PCA cluster scatter plots\n",
    "- **Advantages:**\n",
    "  - Fast and efficient\n",
    "  - Performs well with spherical, well-separated clusters\n",
    "- **Limitations:**\n",
    "  - Requires predefined `k`\n",
    "  - Sensitive to initial centroid placement and scale\n",
    "\n",
    "---\n",
    "\n",
    "## Performance Comparison\n",
    "\n",
    "| Clustering Method         | Number of Clusters | Silhouette Score |\n",
    "|---------------------------|--------------------|------------------|\n",
    "| K-Means                   | 5                  | 0.4200           |\n",
    "| Hierarchical (Average)    | 5                  | 0.4096           |\n",
    "| Hierarchical (Complete)   | 5                  | 0.4000           |\n",
    "| Hierarchical (Ward)       | 5                  | 0.3900           |\n",
    "| Hierarchical (Single)     | 5                  | 0.0030           |\n",
    "\n",
    "---\n",
    "\n",
    "## Conclusion\n",
    "While both algorithms successfully segmented customers, **K-Means clustering yielded the best overall performance** based on the Silhouette Score and visual separation. However, Hierarchical Clustering—especially with average linkage—provided valuable hierarchical insights and interpretability through dendrograms. The best method should be chosen depending on dataset size, need for interpretability, and computational constraints.\n",
    "\n"
   ]
  }
 ],
 "metadata": {
  "colab": {
   "provenance": []
  },
  "language_info": {
   "name": "python"
  }
 },
 "nbformat": 4,
 "nbformat_minor": 5
}
